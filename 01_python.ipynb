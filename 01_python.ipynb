{
 "cells": [
  {
   "cell_type": "code",
   "execution_count": 1,
   "metadata": {},
   "outputs": [],
   "source": [
    "# Based on\n",
    "# https://learnxinyminutes.com/docs/python3/\n",
    "# &\n",
    "# https://www.hackerrank.com/domains/python"
   ]
  },
  {
   "cell_type": "markdown",
   "metadata": {},
   "source": [
    "## Introduction"
   ]
  },
  {
   "cell_type": "markdown",
   "metadata": {},
   "source": [
    "### Numbers"
   ]
  },
  {
   "cell_type": "code",
   "execution_count": 2,
   "metadata": {},
   "outputs": [
    {
     "data": {
      "text/plain": [
       "3"
      ]
     },
     "execution_count": 2,
     "metadata": {},
     "output_type": "execute_result"
    }
   ],
   "source": [
    "3"
   ]
  },
  {
   "cell_type": "code",
   "execution_count": 3,
   "metadata": {},
   "outputs": [
    {
     "data": {
      "text/plain": [
       "3.25"
      ]
     },
     "execution_count": 3,
     "metadata": {},
     "output_type": "execute_result"
    }
   ],
   "source": [
    "3.25"
   ]
  },
  {
   "cell_type": "code",
   "execution_count": 4,
   "metadata": {},
   "outputs": [
    {
     "data": {
      "text/plain": [
       "1e-10"
      ]
     },
     "execution_count": 4,
     "metadata": {},
     "output_type": "execute_result"
    }
   ],
   "source": [
    "1e-10"
   ]
  },
  {
   "cell_type": "code",
   "execution_count": 5,
   "metadata": {},
   "outputs": [
    {
     "data": {
      "text/plain": [
       "2"
      ]
     },
     "execution_count": 5,
     "metadata": {},
     "output_type": "execute_result"
    }
   ],
   "source": [
    "1 + 1"
   ]
  },
  {
   "cell_type": "code",
   "execution_count": 6,
   "metadata": {},
   "outputs": [
    {
     "data": {
      "text/plain": [
       "2"
      ]
     },
     "execution_count": 6,
     "metadata": {},
     "output_type": "execute_result"
    }
   ],
   "source": [
    "1 * 2"
   ]
  },
  {
   "cell_type": "code",
   "execution_count": 8,
   "metadata": {},
   "outputs": [
    {
     "data": {
      "text/plain": [
       "int"
      ]
     },
     "execution_count": 8,
     "metadata": {},
     "output_type": "execute_result"
    }
   ],
   "source": [
    "type(2 ** 10)"
   ]
  },
  {
   "cell_type": "code",
   "execution_count": 9,
   "metadata": {},
   "outputs": [
    {
     "data": {
      "text/plain": [
       "float"
      ]
     },
     "execution_count": 9,
     "metadata": {},
     "output_type": "execute_result"
    }
   ],
   "source": [
    "type(2.1)"
   ]
  },
  {
   "cell_type": "code",
   "execution_count": 13,
   "metadata": {},
   "outputs": [
    {
     "data": {
      "text/plain": [
       "5.5"
      ]
     },
     "execution_count": 13,
     "metadata": {},
     "output_type": "execute_result"
    }
   ],
   "source": [
    "11 / 2"
   ]
  },
  {
   "cell_type": "code",
   "execution_count": 12,
   "metadata": {},
   "outputs": [
    {
     "data": {
      "text/plain": [
       "5"
      ]
     },
     "execution_count": 12,
     "metadata": {},
     "output_type": "execute_result"
    }
   ],
   "source": [
    "11 // 2"
   ]
  },
  {
   "cell_type": "code",
   "execution_count": 14,
   "metadata": {},
   "outputs": [
    {
     "data": {
      "text/plain": [
       "5.0"
      ]
     },
     "execution_count": 14,
     "metadata": {},
     "output_type": "execute_result"
    }
   ],
   "source": [
    "11.9 // 2"
   ]
  },
  {
   "cell_type": "code",
   "execution_count": 16,
   "metadata": {},
   "outputs": [
    {
     "name": "stdout",
     "output_type": "stream",
     "text": [
      "123\n"
     ]
    }
   ],
   "source": [
    "print(\"123\")"
   ]
  },
  {
   "cell_type": "code",
   "execution_count": 51,
   "metadata": {},
   "outputs": [
    {
     "data": {
      "text/plain": [
       "0"
      ]
     },
     "execution_count": 51,
     "metadata": {},
     "output_type": "execute_result"
    }
   ],
   "source": [
    "10 % 2"
   ]
  },
  {
   "cell_type": "markdown",
   "metadata": {},
   "source": [
    "### Conditionals & Logical Operators"
   ]
  },
  {
   "cell_type": "code",
   "execution_count": 18,
   "metadata": {},
   "outputs": [
    {
     "data": {
      "text/plain": [
       "True"
      ]
     },
     "execution_count": 18,
     "metadata": {},
     "output_type": "execute_result"
    }
   ],
   "source": [
    "True"
   ]
  },
  {
   "cell_type": "code",
   "execution_count": 19,
   "metadata": {},
   "outputs": [
    {
     "data": {
      "text/plain": [
       "False"
      ]
     },
     "execution_count": 19,
     "metadata": {},
     "output_type": "execute_result"
    }
   ],
   "source": [
    "False"
   ]
  },
  {
   "cell_type": "code",
   "execution_count": 24,
   "metadata": {},
   "outputs": [
    {
     "data": {
      "text/plain": [
       "False"
      ]
     },
     "execution_count": 24,
     "metadata": {},
     "output_type": "execute_result"
    }
   ],
   "source": [
    "True and False"
   ]
  },
  {
   "cell_type": "code",
   "execution_count": 25,
   "metadata": {},
   "outputs": [
    {
     "data": {
      "text/plain": [
       "True"
      ]
     },
     "execution_count": 25,
     "metadata": {},
     "output_type": "execute_result"
    }
   ],
   "source": [
    "True or False"
   ]
  },
  {
   "cell_type": "code",
   "execution_count": 29,
   "metadata": {},
   "outputs": [
    {
     "data": {
      "text/plain": [
       "True"
      ]
     },
     "execution_count": 29,
     "metadata": {},
     "output_type": "execute_result"
    }
   ],
   "source": [
    "10 < 11"
   ]
  },
  {
   "cell_type": "code",
   "execution_count": 30,
   "metadata": {},
   "outputs": [
    {
     "data": {
      "text/plain": [
       "True"
      ]
     },
     "execution_count": 30,
     "metadata": {},
     "output_type": "execute_result"
    }
   ],
   "source": [
    "-1 < 1"
   ]
  },
  {
   "cell_type": "code",
   "execution_count": 31,
   "metadata": {},
   "outputs": [
    {
     "data": {
      "text/plain": [
       "True"
      ]
     },
     "execution_count": 31,
     "metadata": {},
     "output_type": "execute_result"
    }
   ],
   "source": [
    "1 < 2 < 3"
   ]
  },
  {
   "cell_type": "code",
   "execution_count": 38,
   "metadata": {},
   "outputs": [
    {
     "ename": "IndentationError",
     "evalue": "expected an indented block (<ipython-input-38-e537978e4d3f>, line 4)",
     "output_type": "error",
     "traceback": [
      "\u001b[1;36m  File \u001b[1;32m\"<ipython-input-38-e537978e4d3f>\"\u001b[1;36m, line \u001b[1;32m4\u001b[0m\n\u001b[1;33m    print(\"test\")\u001b[0m\n\u001b[1;37m        ^\u001b[0m\n\u001b[1;31mIndentationError\u001b[0m\u001b[1;31m:\u001b[0m expected an indented block\n"
     ]
    }
   ],
   "source": [
    "x = 10\n",
    "\n",
    "if x > 5:\n",
    "print(\"test\")"
   ]
  },
  {
   "cell_type": "code",
   "execution_count": 43,
   "metadata": {},
   "outputs": [
    {
     "name": "stdout",
     "output_type": "stream",
     "text": [
      "test\n"
     ]
    }
   ],
   "source": [
    "x = 10\n",
    "\n",
    "if x > 5:\n",
    "    print(\"test\")"
   ]
  },
  {
   "cell_type": "code",
   "execution_count": 44,
   "metadata": {},
   "outputs": [
    {
     "name": "stdout",
     "output_type": "stream",
     "text": [
      "test\n",
      "test\n",
      "test\n",
      "test\n"
     ]
    }
   ],
   "source": [
    "x = 10\n",
    "\n",
    "if x > 5:\n",
    "    print(\"test\")\n",
    "    print(\"test\") \n",
    "    print(\"test\") \n",
    "    print(\"test\")"
   ]
  },
  {
   "cell_type": "code",
   "execution_count": 46,
   "metadata": {},
   "outputs": [],
   "source": [
    "if x > 5:\n",
    "    pass"
   ]
  },
  {
   "cell_type": "code",
   "execution_count": 47,
   "metadata": {},
   "outputs": [
    {
     "name": "stdout",
     "output_type": "stream",
     "text": [
      "clause 2\n"
     ]
    }
   ],
   "source": [
    "if x > 11:\n",
    "    print(\"clause 1\")\n",
    "else:\n",
    "    print(\"clause 2\")"
   ]
  },
  {
   "cell_type": "code",
   "execution_count": 50,
   "metadata": {},
   "outputs": [
    {
     "name": "stdout",
     "output_type": "stream",
     "text": [
      "clause 3\n"
     ]
    }
   ],
   "source": [
    "if x > 11:\n",
    "    print(\"clause 1\")\n",
    "elif x > 1:\n",
    "    print(\"clause 3\")\n",
    "else:\n",
    "    print(\"clause 2\")"
   ]
  },
  {
   "cell_type": "markdown",
   "metadata": {},
   "source": [
    "### Functions"
   ]
  },
  {
   "cell_type": "code",
   "execution_count": 57,
   "metadata": {},
   "outputs": [],
   "source": [
    "def my_function():\n",
    "    return 10"
   ]
  },
  {
   "cell_type": "code",
   "execution_count": 56,
   "metadata": {},
   "outputs": [],
   "source": [
    "my_function()"
   ]
  },
  {
   "cell_type": "code",
   "execution_count": 76,
   "metadata": {},
   "outputs": [],
   "source": [
    "def add(x, y, *, c=1, z=10):\n",
    "    return c * (x + y)"
   ]
  },
  {
   "cell_type": "code",
   "execution_count": 78,
   "metadata": {},
   "outputs": [
    {
     "data": {
      "text/plain": [
       "3"
      ]
     },
     "execution_count": 78,
     "metadata": {},
     "output_type": "execute_result"
    }
   ],
   "source": [
    "add(1, 2) # c=1"
   ]
  },
  {
   "cell_type": "code",
   "execution_count": 69,
   "metadata": {},
   "outputs": [
    {
     "data": {
      "text/plain": [
       "300"
      ]
     },
     "execution_count": 69,
     "metadata": {},
     "output_type": "execute_result"
    }
   ],
   "source": [
    "add(1, 2, c=100)"
   ]
  },
  {
   "cell_type": "markdown",
   "metadata": {},
   "source": [
    "### Looping, Ranges"
   ]
  },
  {
   "cell_type": "code",
   "execution_count": 88,
   "metadata": {},
   "outputs": [],
   "source": [
    "my_list = [1, 2, 3]"
   ]
  },
  {
   "cell_type": "code",
   "execution_count": 89,
   "metadata": {},
   "outputs": [
    {
     "name": "stdout",
     "output_type": "stream",
     "text": [
      "1\n",
      "2\n",
      "3\n"
     ]
    }
   ],
   "source": [
    "for x in my_list:\n",
    "    print(x)"
   ]
  },
  {
   "cell_type": "code",
   "execution_count": 321,
   "metadata": {},
   "outputs": [
    {
     "name": "stdout",
     "output_type": "stream",
     "text": [
      "1\n",
      "2\n"
     ]
    }
   ],
   "source": [
    "for x in my_list:\n",
    "    if x > 2:\n",
    "        break\n",
    "        continue\n",
    "    print(x)"
   ]
  },
  {
   "cell_type": "code",
   "execution_count": 91,
   "metadata": {},
   "outputs": [
    {
     "data": {
      "text/plain": [
       "[0, 1, 2, 3, 4, 5, 6, 7, 8, 9]"
      ]
     },
     "execution_count": 91,
     "metadata": {},
     "output_type": "execute_result"
    }
   ],
   "source": [
    "list(range(10))"
   ]
  },
  {
   "cell_type": "code",
   "execution_count": 92,
   "metadata": {},
   "outputs": [
    {
     "data": {
      "text/plain": [
       "[5, 6, 7, 8, 9, 10, 11]"
      ]
     },
     "execution_count": 92,
     "metadata": {},
     "output_type": "execute_result"
    }
   ],
   "source": [
    "list(range(5, 12))"
   ]
  },
  {
   "cell_type": "code",
   "execution_count": 93,
   "metadata": {},
   "outputs": [
    {
     "name": "stdout",
     "output_type": "stream",
     "text": [
      "0\n",
      "1\n",
      "2\n",
      "3\n",
      "4\n",
      "5\n",
      "6\n",
      "7\n",
      "8\n",
      "9\n"
     ]
    }
   ],
   "source": [
    "for x in range(10):\n",
    "    print(x)"
   ]
  },
  {
   "cell_type": "markdown",
   "metadata": {},
   "source": [
    "### Variables"
   ]
  },
  {
   "cell_type": "code",
   "execution_count": 94,
   "metadata": {},
   "outputs": [],
   "source": [
    "x = 10"
   ]
  },
  {
   "cell_type": "code",
   "execution_count": 97,
   "metadata": {},
   "outputs": [],
   "source": [
    "x = x + 1\n",
    "x += 1\n",
    "# x++"
   ]
  },
  {
   "cell_type": "code",
   "execution_count": 120,
   "metadata": {},
   "outputs": [],
   "source": [
    "bad_global_var = 1\n",
    "\n",
    "def inc_it():\n",
    "    global bad_global_var\n",
    "    bad_global_var += 1\n",
    "\n",
    "def set_it():\n",
    "    bad_global_var = 10\n",
    "    \n",
    "def print_it():\n",
    "    print(bad_global_var)"
   ]
  },
  {
   "cell_type": "code",
   "execution_count": 113,
   "metadata": {},
   "outputs": [
    {
     "name": "stdout",
     "output_type": "stream",
     "text": [
      "2\n"
     ]
    }
   ],
   "source": [
    "print_it()"
   ]
  },
  {
   "cell_type": "code",
   "execution_count": 126,
   "metadata": {},
   "outputs": [],
   "source": [
    "set_it()"
   ]
  },
  {
   "cell_type": "code",
   "execution_count": 127,
   "metadata": {},
   "outputs": [
    {
     "data": {
      "text/plain": [
       "1"
      ]
     },
     "execution_count": 127,
     "metadata": {},
     "output_type": "execute_result"
    }
   ],
   "source": [
    "bad_global_var"
   ]
  },
  {
   "cell_type": "code",
   "execution_count": 117,
   "metadata": {},
   "outputs": [],
   "source": [
    "inc_it()"
   ]
  },
  {
   "cell_type": "code",
   "execution_count": 118,
   "metadata": {},
   "outputs": [
    {
     "data": {
      "text/plain": [
       "5"
      ]
     },
     "execution_count": 118,
     "metadata": {},
     "output_type": "execute_result"
    }
   ],
   "source": [
    "bad_global_var"
   ]
  },
  {
   "cell_type": "code",
   "execution_count": null,
   "metadata": {},
   "outputs": [],
   "source": []
  },
  {
   "cell_type": "code",
   "execution_count": 131,
   "metadata": {},
   "outputs": [],
   "source": [
    "def f(x):\n",
    "    def g():\n",
    "        return x\n",
    "    return g"
   ]
  },
  {
   "cell_type": "code",
   "execution_count": 133,
   "metadata": {},
   "outputs": [
    {
     "data": {
      "text/plain": [
       "1"
      ]
     },
     "execution_count": 133,
     "metadata": {},
     "output_type": "execute_result"
    }
   ],
   "source": [
    "f(1)()"
   ]
  },
  {
   "cell_type": "code",
   "execution_count": null,
   "metadata": {},
   "outputs": [],
   "source": []
  },
  {
   "cell_type": "code",
   "execution_count": 134,
   "metadata": {},
   "outputs": [],
   "source": [
    "def f(x):\n",
    "    y = x\n",
    "    def g():\n",
    "        y += 1\n",
    "        return y\n",
    "    return g"
   ]
  },
  {
   "cell_type": "code",
   "execution_count": 135,
   "metadata": {},
   "outputs": [],
   "source": [
    "g = f(10)"
   ]
  },
  {
   "cell_type": "code",
   "execution_count": 140,
   "metadata": {},
   "outputs": [
    {
     "ename": "UnboundLocalError",
     "evalue": "local variable 'y' referenced before assignment",
     "output_type": "error",
     "traceback": [
      "\u001b[1;31m---------------------------------------------------------------------------\u001b[0m",
      "\u001b[1;31mUnboundLocalError\u001b[0m                         Traceback (most recent call last)",
      "\u001b[1;32m<ipython-input-140-5fd69ddb5074>\u001b[0m in \u001b[0;36m<module>\u001b[1;34m()\u001b[0m\n\u001b[1;32m----> 1\u001b[1;33m \u001b[0mg\u001b[0m\u001b[1;33m(\u001b[0m\u001b[1;33m)\u001b[0m\u001b[1;33m\u001b[0m\u001b[0m\n\u001b[0m",
      "\u001b[1;32m<ipython-input-134-ad9a8b4d9e75>\u001b[0m in \u001b[0;36mg\u001b[1;34m()\u001b[0m\n\u001b[0;32m      2\u001b[0m     \u001b[0my\u001b[0m \u001b[1;33m=\u001b[0m \u001b[0mx\u001b[0m\u001b[1;33m\u001b[0m\u001b[0m\n\u001b[0;32m      3\u001b[0m     \u001b[1;32mdef\u001b[0m \u001b[0mg\u001b[0m\u001b[1;33m(\u001b[0m\u001b[1;33m)\u001b[0m\u001b[1;33m:\u001b[0m\u001b[1;33m\u001b[0m\u001b[0m\n\u001b[1;32m----> 4\u001b[1;33m         \u001b[0my\u001b[0m \u001b[1;33m+=\u001b[0m \u001b[1;36m1\u001b[0m\u001b[1;33m\u001b[0m\u001b[0m\n\u001b[0m\u001b[0;32m      5\u001b[0m         \u001b[1;32mreturn\u001b[0m \u001b[0my\u001b[0m\u001b[1;33m\u001b[0m\u001b[0m\n\u001b[0;32m      6\u001b[0m     \u001b[1;32mreturn\u001b[0m \u001b[0mg\u001b[0m\u001b[1;33m\u001b[0m\u001b[0m\n",
      "\u001b[1;31mUnboundLocalError\u001b[0m: local variable 'y' referenced before assignment"
     ]
    }
   ],
   "source": [
    "g()"
   ]
  },
  {
   "cell_type": "code",
   "execution_count": null,
   "metadata": {},
   "outputs": [],
   "source": []
  },
  {
   "cell_type": "code",
   "execution_count": 141,
   "metadata": {},
   "outputs": [],
   "source": [
    "def f(x):\n",
    "    y = x\n",
    "    def g():\n",
    "        nonlocal y\n",
    "        y += 1\n",
    "        return y\n",
    "    return g"
   ]
  },
  {
   "cell_type": "code",
   "execution_count": 146,
   "metadata": {},
   "outputs": [],
   "source": [
    "g = f(10)"
   ]
  },
  {
   "cell_type": "code",
   "execution_count": 171,
   "metadata": {},
   "outputs": [
    {
     "data": {
      "text/plain": [
       "35"
      ]
     },
     "execution_count": 171,
     "metadata": {},
     "output_type": "execute_result"
    }
   ],
   "source": [
    "g()"
   ]
  },
  {
   "cell_type": "code",
   "execution_count": null,
   "metadata": {},
   "outputs": [],
   "source": []
  },
  {
   "cell_type": "markdown",
   "metadata": {},
   "source": [
    "### Strings"
   ]
  },
  {
   "cell_type": "code",
   "execution_count": 172,
   "metadata": {},
   "outputs": [
    {
     "data": {
      "text/plain": [
       "'sjdflasjdfklasjdfl;asjdf'"
      ]
     },
     "execution_count": 172,
     "metadata": {},
     "output_type": "execute_result"
    }
   ],
   "source": [
    "\"sjdflasjdfklasjdfl;asjdf\""
   ]
  },
  {
   "cell_type": "code",
   "execution_count": 173,
   "metadata": {},
   "outputs": [
    {
     "data": {
      "text/plain": [
       "'sdfjasldjfasldjfas;djf'"
      ]
     },
     "execution_count": 173,
     "metadata": {},
     "output_type": "execute_result"
    }
   ],
   "source": [
    "'sdfjasldjfasldjfas;djf'"
   ]
  },
  {
   "cell_type": "code",
   "execution_count": 174,
   "metadata": {},
   "outputs": [
    {
     "data": {
      "text/plain": [
       "str"
      ]
     },
     "execution_count": 174,
     "metadata": {},
     "output_type": "execute_result"
    }
   ],
   "source": [
    "type('s')"
   ]
  },
  {
   "cell_type": "code",
   "execution_count": null,
   "metadata": {},
   "outputs": [],
   "source": []
  },
  {
   "cell_type": "code",
   "execution_count": 175,
   "metadata": {},
   "outputs": [
    {
     "data": {
      "text/plain": [
       "\"it's\""
      ]
     },
     "execution_count": 175,
     "metadata": {},
     "output_type": "execute_result"
    }
   ],
   "source": [
    "\"it's\""
   ]
  },
  {
   "cell_type": "code",
   "execution_count": 176,
   "metadata": {},
   "outputs": [
    {
     "data": {
      "text/plain": [
       "'\"something important\"'"
      ]
     },
     "execution_count": 176,
     "metadata": {},
     "output_type": "execute_result"
    }
   ],
   "source": [
    "'\"something important\"'"
   ]
  },
  {
   "cell_type": "code",
   "execution_count": 178,
   "metadata": {},
   "outputs": [
    {
     "data": {
      "text/plain": [
       "'test \\'\" test'"
      ]
     },
     "execution_count": 178,
     "metadata": {},
     "output_type": "execute_result"
    }
   ],
   "source": [
    "\"\"\"test '\" test\"\"\""
   ]
  },
  {
   "cell_type": "code",
   "execution_count": 179,
   "metadata": {},
   "outputs": [
    {
     "data": {
      "text/plain": [
       "'something\\'\" asldjfasdf'"
      ]
     },
     "execution_count": 179,
     "metadata": {},
     "output_type": "execute_result"
    }
   ],
   "source": [
    "'''something'\" asldjfasdf'''"
   ]
  },
  {
   "cell_type": "code",
   "execution_count": null,
   "metadata": {},
   "outputs": [],
   "source": []
  },
  {
   "cell_type": "code",
   "execution_count": 182,
   "metadata": {},
   "outputs": [],
   "source": [
    "name = \"mamad\""
   ]
  },
  {
   "cell_type": "code",
   "execution_count": 188,
   "metadata": {},
   "outputs": [
    {
     "data": {
      "text/plain": [
       "'hello 10'"
      ]
     },
     "execution_count": 188,
     "metadata": {},
     "output_type": "execute_result"
    }
   ],
   "source": [
    "f\"hello {10}\""
   ]
  },
  {
   "cell_type": "code",
   "execution_count": 190,
   "metadata": {},
   "outputs": [
    {
     "data": {
      "text/plain": [
       "'11'"
      ]
     },
     "execution_count": 190,
     "metadata": {},
     "output_type": "execute_result"
    }
   ],
   "source": [
    "\"1\" + str(1)"
   ]
  },
  {
   "cell_type": "code",
   "execution_count": null,
   "metadata": {},
   "outputs": [],
   "source": []
  },
  {
   "cell_type": "code",
   "execution_count": 192,
   "metadata": {},
   "outputs": [
    {
     "data": {
      "text/plain": [
       "'123'"
      ]
     },
     "execution_count": 192,
     "metadata": {},
     "output_type": "execute_result"
    }
   ],
   "source": [
    "str(123)"
   ]
  },
  {
   "cell_type": "code",
   "execution_count": 193,
   "metadata": {},
   "outputs": [
    {
     "data": {
      "text/plain": [
       "type"
      ]
     },
     "execution_count": 193,
     "metadata": {},
     "output_type": "execute_result"
    }
   ],
   "source": [
    "type(str)"
   ]
  },
  {
   "cell_type": "code",
   "execution_count": 196,
   "metadata": {},
   "outputs": [],
   "source": [
    "x = \"teST\""
   ]
  },
  {
   "cell_type": "code",
   "execution_count": 200,
   "metadata": {},
   "outputs": [
    {
     "data": {
      "text/plain": [
       "'test'"
      ]
     },
     "execution_count": 200,
     "metadata": {},
     "output_type": "execute_result"
    }
   ],
   "source": [
    "x.casefold()"
   ]
  },
  {
   "cell_type": "code",
   "execution_count": 201,
   "metadata": {},
   "outputs": [
    {
     "data": {
      "text/plain": [
       "'test'"
      ]
     },
     "execution_count": 201,
     "metadata": {},
     "output_type": "execute_result"
    }
   ],
   "source": [
    "x.lower()"
   ]
  },
  {
   "cell_type": "code",
   "execution_count": 206,
   "metadata": {},
   "outputs": [
    {
     "data": {
      "text/plain": [
       "'T'"
      ]
     },
     "execution_count": 206,
     "metadata": {},
     "output_type": "execute_result"
    }
   ],
   "source": [
    "x[3]"
   ]
  },
  {
   "cell_type": "code",
   "execution_count": 207,
   "metadata": {},
   "outputs": [
    {
     "data": {
      "text/plain": [
       "'te'"
      ]
     },
     "execution_count": 207,
     "metadata": {},
     "output_type": "execute_result"
    }
   ],
   "source": [
    "x[0:2]"
   ]
  },
  {
   "cell_type": "code",
   "execution_count": 209,
   "metadata": {},
   "outputs": [
    {
     "data": {
      "text/plain": [
       "'T'"
      ]
     },
     "execution_count": 209,
     "metadata": {},
     "output_type": "execute_result"
    }
   ],
   "source": [
    "x[-1]"
   ]
  },
  {
   "cell_type": "code",
   "execution_count": 210,
   "metadata": {},
   "outputs": [
    {
     "data": {
      "text/plain": [
       "'S'"
      ]
     },
     "execution_count": 210,
     "metadata": {},
     "output_type": "execute_result"
    }
   ],
   "source": [
    "x[-2]"
   ]
  },
  {
   "cell_type": "code",
   "execution_count": 211,
   "metadata": {},
   "outputs": [
    {
     "data": {
      "text/plain": [
       "'te'"
      ]
     },
     "execution_count": 211,
     "metadata": {},
     "output_type": "execute_result"
    }
   ],
   "source": [
    "x[:2]"
   ]
  },
  {
   "cell_type": "code",
   "execution_count": 212,
   "metadata": {},
   "outputs": [
    {
     "data": {
      "text/plain": [
       "'teS'"
      ]
     },
     "execution_count": 212,
     "metadata": {},
     "output_type": "execute_result"
    }
   ],
   "source": [
    "x[:-1]"
   ]
  },
  {
   "cell_type": "code",
   "execution_count": 214,
   "metadata": {},
   "outputs": [
    {
     "data": {
      "text/plain": [
       "'tS'"
      ]
     },
     "execution_count": 214,
     "metadata": {},
     "output_type": "execute_result"
    }
   ],
   "source": [
    "x[::2]"
   ]
  },
  {
   "cell_type": "code",
   "execution_count": 215,
   "metadata": {},
   "outputs": [
    {
     "data": {
      "text/plain": [
       "'TSet'"
      ]
     },
     "execution_count": 215,
     "metadata": {},
     "output_type": "execute_result"
    }
   ],
   "source": [
    "x[::-1]"
   ]
  },
  {
   "cell_type": "code",
   "execution_count": 219,
   "metadata": {},
   "outputs": [
    {
     "data": {
      "text/plain": [
       "'hello, cruel, world'"
      ]
     },
     "execution_count": 219,
     "metadata": {},
     "output_type": "execute_result"
    }
   ],
   "source": [
    "', '.join(['hello', 'cruel', 'world'])"
   ]
  },
  {
   "cell_type": "code",
   "execution_count": 224,
   "metadata": {},
   "outputs": [
    {
     "name": "stdout",
     "output_type": "stream",
     "text": [
      "\ttest\n",
      "\ttest\n"
     ]
    }
   ],
   "source": [
    "print('\\ttest\\n\\ttest')"
   ]
  },
  {
   "cell_type": "code",
   "execution_count": 225,
   "metadata": {},
   "outputs": [
    {
     "data": {
      "text/plain": [
       "['hello,', 'world!']"
      ]
     },
     "execution_count": 225,
     "metadata": {},
     "output_type": "execute_result"
    }
   ],
   "source": [
    "'hello, world!'.split()"
   ]
  },
  {
   "cell_type": "code",
   "execution_count": 227,
   "metadata": {},
   "outputs": [
    {
     "data": {
      "text/plain": [
       "['hello', 'world!']"
      ]
     },
     "execution_count": 227,
     "metadata": {},
     "output_type": "execute_result"
    }
   ],
   "source": [
    "'hello, world!'.split(', ')"
   ]
  },
  {
   "cell_type": "code",
   "execution_count": 228,
   "metadata": {},
   "outputs": [],
   "source": [
    "x = 'test'"
   ]
  },
  {
   "cell_type": "code",
   "execution_count": null,
   "metadata": {},
   "outputs": [],
   "source": []
  },
  {
   "cell_type": "code",
   "execution_count": 237,
   "metadata": {},
   "outputs": [
    {
     "data": {
      "text/plain": [
       "'DEEDFFF'"
      ]
     },
     "execution_count": 237,
     "metadata": {},
     "output_type": "execute_result"
    }
   ],
   "source": [
    "tbl = str.maketrans('ABC', 'DEF')\n",
    "'ABBDCCC'.translate(tbl)"
   ]
  },
  {
   "cell_type": "code",
   "execution_count": 251,
   "metadata": {},
   "outputs": [
    {
     "data": {
      "text/plain": [
       "4"
      ]
     },
     "execution_count": 251,
     "metadata": {},
     "output_type": "execute_result"
    }
   ],
   "source": [
    "len(\"Test\")"
   ]
  },
  {
   "cell_type": "code",
   "execution_count": 252,
   "metadata": {},
   "outputs": [
    {
     "name": "stdout",
     "output_type": "stream",
     "text": [
      "t\n",
      "e\n",
      "s\n",
      "t\n"
     ]
    }
   ],
   "source": [
    "for c in \"test\":\n",
    "    print(c)"
   ]
  },
  {
   "cell_type": "code",
   "execution_count": null,
   "metadata": {},
   "outputs": [],
   "source": []
  },
  {
   "cell_type": "code",
   "execution_count": 253,
   "metadata": {},
   "outputs": [],
   "source": [
    "s = \"dflasjdflajsdfk\""
   ]
  },
  {
   "cell_type": "code",
   "execution_count": 254,
   "metadata": {},
   "outputs": [
    {
     "ename": "TypeError",
     "evalue": "'str' object does not support item assignment",
     "output_type": "error",
     "traceback": [
      "\u001b[1;31m---------------------------------------------------------------------------\u001b[0m",
      "\u001b[1;31mTypeError\u001b[0m                                 Traceback (most recent call last)",
      "\u001b[1;32m<ipython-input-254-e257b27bcdef>\u001b[0m in \u001b[0;36m<module>\u001b[1;34m()\u001b[0m\n\u001b[1;32m----> 1\u001b[1;33m \u001b[0mx\u001b[0m\u001b[1;33m[\u001b[0m\u001b[1;36m4\u001b[0m\u001b[1;33m]\u001b[0m \u001b[1;33m=\u001b[0m \u001b[1;36m10\u001b[0m\u001b[1;33m\u001b[0m\u001b[0m\n\u001b[0m",
      "\u001b[1;31mTypeError\u001b[0m: 'str' object does not support item assignment"
     ]
    }
   ],
   "source": [
    "x[4] = 10"
   ]
  },
  {
   "cell_type": "code",
   "execution_count": null,
   "metadata": {},
   "outputs": [],
   "source": []
  },
  {
   "cell_type": "markdown",
   "metadata": {},
   "source": [
    "### Lists"
   ]
  },
  {
   "cell_type": "code",
   "execution_count": 296,
   "metadata": {},
   "outputs": [],
   "source": [
    "a = []"
   ]
  },
  {
   "cell_type": "code",
   "execution_count": 297,
   "metadata": {},
   "outputs": [
    {
     "data": {
      "text/plain": [
       "[]"
      ]
     },
     "execution_count": 297,
     "metadata": {},
     "output_type": "execute_result"
    }
   ],
   "source": [
    "a"
   ]
  },
  {
   "cell_type": "code",
   "execution_count": 298,
   "metadata": {},
   "outputs": [],
   "source": [
    "a = list()"
   ]
  },
  {
   "cell_type": "code",
   "execution_count": 299,
   "metadata": {},
   "outputs": [
    {
     "data": {
      "text/plain": [
       "[]"
      ]
     },
     "execution_count": 299,
     "metadata": {},
     "output_type": "execute_result"
    }
   ],
   "source": [
    "a"
   ]
  },
  {
   "cell_type": "code",
   "execution_count": 300,
   "metadata": {},
   "outputs": [],
   "source": [
    "a = [1, 2, 3, 4]"
   ]
  },
  {
   "cell_type": "code",
   "execution_count": 301,
   "metadata": {},
   "outputs": [],
   "source": [
    "a = list({1, 2, 3})\n",
    "a = list(range(5))"
   ]
  },
  {
   "cell_type": "code",
   "execution_count": 302,
   "metadata": {},
   "outputs": [
    {
     "data": {
      "text/plain": [
       "[0, 1, 2, 3, 4]"
      ]
     },
     "execution_count": 302,
     "metadata": {},
     "output_type": "execute_result"
    }
   ],
   "source": [
    "a"
   ]
  },
  {
   "cell_type": "code",
   "execution_count": null,
   "metadata": {},
   "outputs": [],
   "source": []
  },
  {
   "cell_type": "code",
   "execution_count": 303,
   "metadata": {},
   "outputs": [
    {
     "data": {
      "text/plain": [
       "4"
      ]
     },
     "execution_count": 303,
     "metadata": {},
     "output_type": "execute_result"
    }
   ],
   "source": [
    "a[-1]"
   ]
  },
  {
   "cell_type": "code",
   "execution_count": 304,
   "metadata": {},
   "outputs": [
    {
     "data": {
      "text/plain": [
       "1"
      ]
     },
     "execution_count": 304,
     "metadata": {},
     "output_type": "execute_result"
    }
   ],
   "source": [
    "a[1]"
   ]
  },
  {
   "cell_type": "code",
   "execution_count": 305,
   "metadata": {},
   "outputs": [
    {
     "data": {
      "text/plain": [
       "[0, 1, 2, 3, 4]"
      ]
     },
     "execution_count": 305,
     "metadata": {},
     "output_type": "execute_result"
    }
   ],
   "source": [
    "a"
   ]
  },
  {
   "cell_type": "code",
   "execution_count": null,
   "metadata": {},
   "outputs": [],
   "source": []
  },
  {
   "cell_type": "code",
   "execution_count": 306,
   "metadata": {},
   "outputs": [],
   "source": [
    "b = a[:]"
   ]
  },
  {
   "cell_type": "code",
   "execution_count": 307,
   "metadata": {},
   "outputs": [
    {
     "data": {
      "text/plain": [
       "[0, 1, 2, 3, 4]"
      ]
     },
     "execution_count": 307,
     "metadata": {},
     "output_type": "execute_result"
    }
   ],
   "source": [
    "b"
   ]
  },
  {
   "cell_type": "code",
   "execution_count": 308,
   "metadata": {},
   "outputs": [],
   "source": [
    "a.append(100)"
   ]
  },
  {
   "cell_type": "code",
   "execution_count": 309,
   "metadata": {},
   "outputs": [
    {
     "data": {
      "text/plain": [
       "[0, 1, 2, 3, 4]"
      ]
     },
     "execution_count": 309,
     "metadata": {},
     "output_type": "execute_result"
    }
   ],
   "source": [
    "b"
   ]
  },
  {
   "cell_type": "code",
   "execution_count": null,
   "metadata": {},
   "outputs": [],
   "source": []
  },
  {
   "cell_type": "code",
   "execution_count": 310,
   "metadata": {},
   "outputs": [],
   "source": [
    "b = a"
   ]
  },
  {
   "cell_type": "code",
   "execution_count": 311,
   "metadata": {},
   "outputs": [
    {
     "data": {
      "text/plain": [
       "[0, 1, 2, 3, 4, 100]"
      ]
     },
     "execution_count": 311,
     "metadata": {},
     "output_type": "execute_result"
    }
   ],
   "source": [
    "b"
   ]
  },
  {
   "cell_type": "code",
   "execution_count": 312,
   "metadata": {},
   "outputs": [],
   "source": [
    "a.append(100)"
   ]
  },
  {
   "cell_type": "code",
   "execution_count": 313,
   "metadata": {},
   "outputs": [
    {
     "data": {
      "text/plain": [
       "[0, 1, 2, 3, 4, 100, 100]"
      ]
     },
     "execution_count": 313,
     "metadata": {},
     "output_type": "execute_result"
    }
   ],
   "source": [
    "b"
   ]
  },
  {
   "cell_type": "code",
   "execution_count": null,
   "metadata": {},
   "outputs": [],
   "source": []
  },
  {
   "cell_type": "code",
   "execution_count": 318,
   "metadata": {},
   "outputs": [
    {
     "data": {
      "text/plain": [
       "[0, 1, 2, 3, 4, 100, 100]"
      ]
     },
     "execution_count": 318,
     "metadata": {},
     "output_type": "execute_result"
    }
   ],
   "source": [
    "a"
   ]
  },
  {
   "cell_type": "code",
   "execution_count": 319,
   "metadata": {},
   "outputs": [],
   "source": [
    "a.insert(0, -1)"
   ]
  },
  {
   "cell_type": "code",
   "execution_count": 320,
   "metadata": {},
   "outputs": [
    {
     "data": {
      "text/plain": [
       "[-1, 0, 1, 2, 3, 4, 100, 100]"
      ]
     },
     "execution_count": 320,
     "metadata": {},
     "output_type": "execute_result"
    }
   ],
   "source": [
    "a"
   ]
  },
  {
   "cell_type": "code",
   "execution_count": null,
   "metadata": {},
   "outputs": [],
   "source": []
  },
  {
   "cell_type": "code",
   "execution_count": 324,
   "metadata": {},
   "outputs": [
    {
     "data": {
      "text/plain": [
       "(1, 2, 3, 4)"
      ]
     },
     "execution_count": 324,
     "metadata": {},
     "output_type": "execute_result"
    }
   ],
   "source": [
    "(1, 2, 3, 4)"
   ]
  },
  {
   "cell_type": "code",
   "execution_count": 323,
   "metadata": {},
   "outputs": [
    {
     "data": {
      "text/plain": [
       "(1,)"
      ]
     },
     "execution_count": 323,
     "metadata": {},
     "output_type": "execute_result"
    }
   ],
   "source": [
    "(1,)"
   ]
  },
  {
   "cell_type": "code",
   "execution_count": null,
   "metadata": {},
   "outputs": [],
   "source": []
  },
  {
   "cell_type": "code",
   "execution_count": 327,
   "metadata": {},
   "outputs": [],
   "source": [
    "s = 'test lol'"
   ]
  },
  {
   "cell_type": "code",
   "execution_count": 326,
   "metadata": {},
   "outputs": [
    {
     "data": {
      "text/plain": [
       "['test']"
      ]
     },
     "execution_count": 326,
     "metadata": {},
     "output_type": "execute_result"
    }
   ],
   "source": [
    "s.split()"
   ]
  },
  {
   "cell_type": "markdown",
   "metadata": {},
   "source": [
    "# Dictionaries"
   ]
  },
  {
   "cell_type": "code",
   "execution_count": 328,
   "metadata": {},
   "outputs": [],
   "source": [
    "x = {}"
   ]
  },
  {
   "cell_type": "code",
   "execution_count": 331,
   "metadata": {},
   "outputs": [],
   "source": [
    "x[0] = 1"
   ]
  },
  {
   "cell_type": "code",
   "execution_count": 332,
   "metadata": {},
   "outputs": [
    {
     "data": {
      "text/plain": [
       "{0: 1}"
      ]
     },
     "execution_count": 332,
     "metadata": {},
     "output_type": "execute_result"
    }
   ],
   "source": [
    "x"
   ]
  },
  {
   "cell_type": "code",
   "execution_count": 333,
   "metadata": {},
   "outputs": [
    {
     "data": {
      "text/plain": [
       "1"
      ]
     },
     "execution_count": 333,
     "metadata": {},
     "output_type": "execute_result"
    }
   ],
   "source": [
    "x[0]"
   ]
  },
  {
   "cell_type": "code",
   "execution_count": 335,
   "metadata": {},
   "outputs": [],
   "source": [
    "x[\"hello\"] = \"world\""
   ]
  },
  {
   "cell_type": "code",
   "execution_count": 336,
   "metadata": {},
   "outputs": [
    {
     "data": {
      "text/plain": [
       "'world'"
      ]
     },
     "execution_count": 336,
     "metadata": {},
     "output_type": "execute_result"
    }
   ],
   "source": [
    "x[\"hello\"]"
   ]
  },
  {
   "cell_type": "code",
   "execution_count": 337,
   "metadata": {},
   "outputs": [
    {
     "data": {
      "text/plain": [
       "{0: 1, 'hello': 'world'}"
      ]
     },
     "execution_count": 337,
     "metadata": {},
     "output_type": "execute_result"
    }
   ],
   "source": [
    "x"
   ]
  },
  {
   "cell_type": "code",
   "execution_count": 344,
   "metadata": {},
   "outputs": [],
   "source": [
    "x = [\n",
    "    {\"name\": \"mamad\", \"age\": 30},\n",
    "    {\"name\": \"ali\", \"age\": 20}\n",
    "]"
   ]
  },
  {
   "cell_type": "code",
   "execution_count": null,
   "metadata": {},
   "outputs": [],
   "source": []
  },
  {
   "cell_type": "code",
   "execution_count": 348,
   "metadata": {},
   "outputs": [],
   "source": [
    "page = \"\"\"\n",
    "\n",
    "    Practice\n",
    "    Compete\n",
    "    Jobs\n",
    "    Leaderboard\n",
    "\n",
    "    Bandbaz\n",
    "\n",
    "    PracticePython\n",
    "\n",
    "Python\n",
    "15 more points to get your next star!\n",
    "Rank: 121436|Points: 95/110\n",
    "Python\n",
    "Print Function\n",
    "EasyMax Score: 20Success Rate: 95.82%\n",
    "Learn to use print as a function\n",
    "List Comprehensions\n",
    "EasyMax Score: 10Success Rate: 98.71%\n",
    "Find the Runner-Up Score!\n",
    "EasyMax Score: 10Success Rate: 94.21%\n",
    "Nested Lists\n",
    "EasyMax Score: 10Success Rate: 89.96%\n",
    "promo-icon\n",
    "Get an interview with Booking.com\n",
    "Apply and solve the code challenges to land an interview with Booking.com\n",
    "Finding the percentage\n",
    "EasyMax Score: 10Success Rate: 97.07%\n",
    "Tuples\n",
    "EasyMax Score: 10Success Rate: 98.15%\n",
    "sWAP cASE\n",
    "EasyMax Score: 10Success Rate: 98.48%\n",
    "Find a string\n",
    "EasyMax Score: 10Success Rate: 93.88%\n",
    "String Validators\n",
    "EasyMax Score: 10Success Rate: 94.14%\n",
    "Text Alignment\n",
    "EasyMax Score: 10Success Rate: 98.35%\n",
    "Text Wrap\n",
    "EasyMax Score: 10Success Rate: 98.89%\n",
    "Designer Door Mat\n",
    "EasyMax Score: 10Success Rate: 98.32%\n",
    "String Formatting\n",
    "EasyMax Score: 10Success Rate: 92.06%\n",
    "Alphabet Rangoli\n",
    "EasyMax Score: 20Success Rate: 97.66%\n",
    "Capitalize!\n",
    "EasyMax Score: 20Success Rate: 82.47%\n",
    "The Minion Game\n",
    "MediumMax Score: 40Success Rate: 85.97%\n",
    "Merge the Tools!\n",
    "MediumMax Score: 40Success Rate: 93.01%\n",
    "itertools.product()\n",
    "EasyMax Score: 10Success Rate: 98.03%\n",
    "collections.Counter()\n",
    "EasyMax Score: 10Success Rate: 98.47%\n",
    "itertools.permutations()\n",
    "EasyMax Score: 10Success Rate: 97.90%\n",
    "Polar Coordinates\n",
    "EasyMax Score: 10Success Rate: 94.00%\n",
    "Introduction to Sets\n",
    "EasyMax Score: 10Success Rate: 98.27%\n",
    "Calendar Module\n",
    "EasyMax Score: 10Success Rate: 97.25%\n",
    "DefaultDict Tutorial\n",
    "EasyMax Score: 20Success Rate: 92.96%\n",
    "Exceptions\n",
    "EasyMax Score: 10Success Rate: 96.48%\n",
    "Collections.namedtuple()\n",
    "EasyMax Score: 20Success Rate: 97.77%\n",
    "Time Delta\n",
    "MediumMax Score: 30Success Rate: 92.65%\n",
    "Find Angle MBC\n",
    "MediumMax Score: 10Success Rate: 86.73%\n",
    "Collections.OrderedDict()\n",
    "EasyMax Score: 20Success Rate: 98.93%\n",
    "No Idea!\n",
    "MediumMax Score: 50Success Rate: 86.32%\n",
    "Symmetric Difference\n",
    "EasyMax Score: 10Success Rate: 98.14%\n",
    "itertools.combinations()\n",
    "EasyMax Score: 10Success Rate: 97.81%\n",
    "Incorrect Regex\n",
    "EasyMax Score: 20Success Rate: 98.28%\n",
    "Set .add()\n",
    "EasyMax Score: 10Success Rate: 99.38%\n",
    "itertools.combinations_with_replacement()\n",
    "EasyMax Score: 10Success Rate: 99.02%\n",
    "Set .discard(), .remove() & .pop()\n",
    "EasyMax Score: 10Success Rate: 97.11%\n",
    "Word Order\n",
    "MediumMax Score: 50Success Rate: 88.12%\n",
    "Collections.deque()\n",
    "EasyMax Score: 20Success Rate: 98.57%\n",
    "Compress the String!\n",
    "MediumMax Score: 20Success Rate: 97.95%\n",
    "Company Logo\n",
    "MediumMax Score: 30Success Rate: 87.62%\n",
    "Set .union() Operation\n",
    "EasyMax Score: 10Success Rate: 99.43%\n",
    "Piling Up!\n",
    "MediumMax Score: 50Success Rate: 90.07%\n",
    "Triangle Quest 2\n",
    "MediumMax Score: 20Success Rate: 95.25%\n",
    "Iterables and Iterators\n",
    "MediumMax Score: 40Success Rate: 96.75%\n",
    "Set .intersection() Operation\n",
    "EasyMax Score: 10Success Rate: 99.60%\n",
    "Mod Divmod\n",
    "EasyMax Score: 10Success Rate: 98.85%\n",
    "Power - Mod Power\n",
    "EasyMax Score: 10Success Rate: 99.23%\n",
    "Maximize It!\n",
    "HardMax Score: 50Success Rate: 81.84%\n",
    "Set .difference() Operation\n",
    "EasyMax Score: 10Success Rate: 99.49%\n",
    "Integers Come In All Sizes\n",
    "EasyMax Score: 10Success Rate: 99.29%\n",
    "Set .symmetric_difference() Operation\n",
    "EasyMax Score: 10Success Rate: 99.68%\n",
    "Set Mutations\n",
    "EasyMax Score: 10Success Rate: 98.51%\n",
    "Triangle Quest\n",
    "MediumMax Score: 20Success Rate: 91.06%\n",
    "The Captain's Room\n",
    "EasyMax Score: 10Success Rate: 90.52%\n",
    "Check Subset\n",
    "EasyMax Score: 10Success Rate: 98.67%\n",
    "Check Strict Superset\n",
    "EasyMax Score: 10Success Rate: 95.63%\n",
    "Classes: Dealing with Complex Numbers\n",
    "MediumMax Score: 20Success Rate: 91.76%\n",
    "Class 2 - Find the Torsional Angle\n",
    "EasyMax Score: 20Success Rate: 97.60%\n",
    "Zipped!\n",
    "EasyMax Score: 10Success Rate: 97.65%\n",
    "Input()\n",
    "EasyMax Score: 20Success Rate: 96.10%\n",
    "Status\n",
    "\n",
    "    Solved\n",
    "    Unsolved\n",
    "\n",
    "Difficulty\n",
    "\n",
    "    Easy\n",
    "    Medium\n",
    "    Hard\n",
    "\n",
    "Subdomains\n",
    "\n",
    "    Introduction\n",
    "    Basic Data Types\n",
    "    Strings\n",
    "    Sets\n",
    "    Math\n",
    "    Itertools\n",
    "    Collections\n",
    "    Date and Time\n",
    "    Errors and Exceptions\n",
    "    Classes\n",
    "    Built-Ins\n",
    "    Python Functionals\n",
    "    Regex and Parsing\n",
    "    XML\n",
    "    Closures and Decorators\n",
    "    Numpy\n",
    "    Debugging\n",
    "\n",
    "    Contest CalendarBlogScoringEnvironmentFAQAbout UsSupportCareersTerms Of ServicePrivacy PolicyRequest a Feature\n",
    "\n",
    "\"\"\""
   ]
  },
  {
   "cell_type": "code",
   "execution_count": 352,
   "metadata": {},
   "outputs": [],
   "source": [
    "page = page.lower().split()"
   ]
  },
  {
   "cell_type": "code",
   "execution_count": 355,
   "metadata": {},
   "outputs": [],
   "source": [
    "counts = {}\n",
    "for w in page:\n",
    "    if w not in counts:\n",
    "        counts[w] = 0\n",
    "    counts[w] += 1"
   ]
  },
  {
   "cell_type": "code",
   "execution_count": 356,
   "metadata": {},
   "outputs": [
    {
     "data": {
      "text/plain": [
       "{'practice': 1,\n",
       " 'compete': 1,\n",
       " 'jobs': 1,\n",
       " 'leaderboard': 1,\n",
       " 'bandbaz': 1,\n",
       " 'practicepython': 1,\n",
       " 'python': 3,\n",
       " '15': 1,\n",
       " 'more': 1,\n",
       " 'points': 1,\n",
       " 'to': 4,\n",
       " 'get': 2,\n",
       " 'your': 1,\n",
       " 'next': 1,\n",
       " 'star!': 1,\n",
       " 'rank:': 1,\n",
       " '121436|points:': 1,\n",
       " '95/110': 1,\n",
       " 'print': 2,\n",
       " 'function': 2,\n",
       " 'easymax': 46,\n",
       " 'score:': 60,\n",
       " '20success': 14,\n",
       " 'rate:': 60,\n",
       " '95.82%': 1,\n",
       " 'learn': 1,\n",
       " 'use': 1,\n",
       " 'as': 1,\n",
       " 'a': 3,\n",
       " 'list': 1,\n",
       " 'comprehensions': 1,\n",
       " '10success': 37,\n",
       " '98.71%': 1,\n",
       " 'find': 4,\n",
       " 'the': 8,\n",
       " 'runner-up': 1,\n",
       " 'score!': 1,\n",
       " '94.21%': 1,\n",
       " 'nested': 1,\n",
       " 'lists': 1,\n",
       " '89.96%': 1,\n",
       " 'promo-icon': 1,\n",
       " 'an': 2,\n",
       " 'interview': 2,\n",
       " 'with': 3,\n",
       " 'booking.com': 2,\n",
       " 'apply': 1,\n",
       " 'and': 6,\n",
       " 'solve': 1,\n",
       " 'code': 1,\n",
       " 'challenges': 1,\n",
       " 'land': 1,\n",
       " 'finding': 1,\n",
       " 'percentage': 1,\n",
       " '97.07%': 1,\n",
       " 'tuples': 1,\n",
       " '98.15%': 1,\n",
       " 'swap': 1,\n",
       " 'case': 1,\n",
       " '98.48%': 1,\n",
       " 'string': 3,\n",
       " '93.88%': 1,\n",
       " 'validators': 1,\n",
       " '94.14%': 1,\n",
       " 'text': 2,\n",
       " 'alignment': 1,\n",
       " '98.35%': 1,\n",
       " 'wrap': 1,\n",
       " '98.89%': 1,\n",
       " 'designer': 1,\n",
       " 'door': 1,\n",
       " 'mat': 1,\n",
       " '98.32%': 1,\n",
       " 'formatting': 1,\n",
       " '92.06%': 1,\n",
       " 'alphabet': 1,\n",
       " 'rangoli': 1,\n",
       " '97.66%': 1,\n",
       " 'capitalize!': 1,\n",
       " '82.47%': 1,\n",
       " 'minion': 1,\n",
       " 'game': 1,\n",
       " 'mediummax': 13,\n",
       " '40success': 3,\n",
       " '85.97%': 1,\n",
       " 'merge': 1,\n",
       " 'tools!': 1,\n",
       " '93.01%': 1,\n",
       " 'itertools.product()': 1,\n",
       " '98.03%': 1,\n",
       " 'collections.counter()': 1,\n",
       " '98.47%': 1,\n",
       " 'itertools.permutations()': 1,\n",
       " '97.90%': 1,\n",
       " 'polar': 1,\n",
       " 'coordinates': 1,\n",
       " '94.00%': 1,\n",
       " 'introduction': 2,\n",
       " 'sets': 2,\n",
       " '98.27%': 1,\n",
       " 'calendar': 1,\n",
       " 'module': 1,\n",
       " '97.25%': 1,\n",
       " 'defaultdict': 1,\n",
       " 'tutorial': 1,\n",
       " '92.96%': 1,\n",
       " 'exceptions': 2,\n",
       " '96.48%': 1,\n",
       " 'collections.namedtuple()': 1,\n",
       " '97.77%': 1,\n",
       " 'time': 2,\n",
       " 'delta': 1,\n",
       " '30success': 2,\n",
       " '92.65%': 1,\n",
       " 'angle': 2,\n",
       " 'mbc': 1,\n",
       " '86.73%': 1,\n",
       " 'collections.ordereddict()': 1,\n",
       " '98.93%': 1,\n",
       " 'no': 1,\n",
       " 'idea!': 1,\n",
       " '50success': 4,\n",
       " '86.32%': 1,\n",
       " 'symmetric': 1,\n",
       " 'difference': 1,\n",
       " '98.14%': 1,\n",
       " 'itertools.combinations()': 1,\n",
       " '97.81%': 1,\n",
       " 'incorrect': 1,\n",
       " 'regex': 2,\n",
       " '98.28%': 1,\n",
       " 'set': 7,\n",
       " '.add()': 1,\n",
       " '99.38%': 1,\n",
       " 'itertools.combinations_with_replacement()': 1,\n",
       " '99.02%': 1,\n",
       " '.discard(),': 1,\n",
       " '.remove()': 1,\n",
       " '&': 1,\n",
       " '.pop()': 1,\n",
       " '97.11%': 1,\n",
       " 'word': 1,\n",
       " 'order': 1,\n",
       " '88.12%': 1,\n",
       " 'collections.deque()': 1,\n",
       " '98.57%': 1,\n",
       " 'compress': 1,\n",
       " 'string!': 1,\n",
       " '97.95%': 1,\n",
       " 'company': 1,\n",
       " 'logo': 1,\n",
       " '87.62%': 1,\n",
       " '.union()': 1,\n",
       " 'operation': 4,\n",
       " '99.43%': 1,\n",
       " 'piling': 1,\n",
       " 'up!': 1,\n",
       " '90.07%': 1,\n",
       " 'triangle': 2,\n",
       " 'quest': 2,\n",
       " '2': 2,\n",
       " '95.25%': 1,\n",
       " 'iterables': 1,\n",
       " 'iterators': 1,\n",
       " '96.75%': 1,\n",
       " '.intersection()': 1,\n",
       " '99.60%': 1,\n",
       " 'mod': 2,\n",
       " 'divmod': 1,\n",
       " '98.85%': 1,\n",
       " 'power': 2,\n",
       " '-': 2,\n",
       " '99.23%': 1,\n",
       " 'maximize': 1,\n",
       " 'it!': 1,\n",
       " 'hardmax': 1,\n",
       " '81.84%': 1,\n",
       " '.difference()': 1,\n",
       " '99.49%': 1,\n",
       " 'integers': 1,\n",
       " 'come': 1,\n",
       " 'in': 1,\n",
       " 'all': 1,\n",
       " 'sizes': 1,\n",
       " '99.29%': 1,\n",
       " '.symmetric_difference()': 1,\n",
       " '99.68%': 1,\n",
       " 'mutations': 1,\n",
       " '98.51%': 1,\n",
       " '91.06%': 1,\n",
       " \"captain's\": 1,\n",
       " 'room': 1,\n",
       " '90.52%': 1,\n",
       " 'check': 2,\n",
       " 'subset': 1,\n",
       " '98.67%': 1,\n",
       " 'strict': 1,\n",
       " 'superset': 1,\n",
       " '95.63%': 1,\n",
       " 'classes:': 1,\n",
       " 'dealing': 1,\n",
       " 'complex': 1,\n",
       " 'numbers': 1,\n",
       " '91.76%': 1,\n",
       " 'class': 1,\n",
       " 'torsional': 1,\n",
       " '97.60%': 1,\n",
       " 'zipped!': 1,\n",
       " '97.65%': 1,\n",
       " 'input()': 1,\n",
       " '96.10%': 1,\n",
       " 'status': 1,\n",
       " 'solved': 1,\n",
       " 'unsolved': 1,\n",
       " 'difficulty': 1,\n",
       " 'easy': 1,\n",
       " 'medium': 1,\n",
       " 'hard': 1,\n",
       " 'subdomains': 1,\n",
       " 'basic': 1,\n",
       " 'data': 1,\n",
       " 'types': 1,\n",
       " 'strings': 1,\n",
       " 'math': 1,\n",
       " 'itertools': 1,\n",
       " 'collections': 1,\n",
       " 'date': 1,\n",
       " 'errors': 1,\n",
       " 'classes': 1,\n",
       " 'built-ins': 1,\n",
       " 'functionals': 1,\n",
       " 'parsing': 1,\n",
       " 'xml': 1,\n",
       " 'closures': 1,\n",
       " 'decorators': 1,\n",
       " 'numpy': 1,\n",
       " 'debugging': 1,\n",
       " 'contest': 1,\n",
       " 'calendarblogscoringenvironmentfaqabout': 1,\n",
       " 'ussupportcareersterms': 1,\n",
       " 'of': 1,\n",
       " 'serviceprivacy': 1,\n",
       " 'policyrequest': 1,\n",
       " 'feature': 1}"
      ]
     },
     "execution_count": 356,
     "metadata": {},
     "output_type": "execute_result"
    }
   ],
   "source": [
    "counts"
   ]
  },
  {
   "cell_type": "code",
   "execution_count": null,
   "metadata": {},
   "outputs": [],
   "source": []
  },
  {
   "cell_type": "code",
   "execution_count": null,
   "metadata": {},
   "outputs": [],
   "source": []
  },
  {
   "cell_type": "code",
   "execution_count": null,
   "metadata": {},
   "outputs": [],
   "source": []
  },
  {
   "cell_type": "code",
   "execution_count": null,
   "metadata": {},
   "outputs": [],
   "source": []
  }
 ],
 "metadata": {
  "kernelspec": {
   "display_name": "Python 3",
   "language": "python",
   "name": "python3"
  },
  "language_info": {
   "codemirror_mode": {
    "name": "ipython",
    "version": 3
   },
   "file_extension": ".py",
   "mimetype": "text/x-python",
   "name": "python",
   "nbconvert_exporter": "python",
   "pygments_lexer": "ipython3",
   "version": "3.7.0"
  }
 },
 "nbformat": 4,
 "nbformat_minor": 2
}
